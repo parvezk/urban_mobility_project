{
 "cells": [
  {
   "cell_type": "code",
   "execution_count": 1,
   "metadata": {},
   "outputs": [],
   "source": [
    "import numpy as np\n",
    "import pandas as pd\n",
    "import matplotlib.pyplot as plt"
   ]
  },
  {
   "cell_type": "code",
   "execution_count": 2,
   "metadata": {},
   "outputs": [],
   "source": [
    "df = pd.read_csv(\"data/movement-speeds-hourly-new-york-2018-10.csv\")"
   ]
  },
  {
   "cell_type": "code",
   "execution_count": 6,
   "metadata": {},
   "outputs": [
    {
     "data": {
      "text/html": [
       "<div>\n",
       "<style scoped>\n",
       "    .dataframe tbody tr th:only-of-type {\n",
       "        vertical-align: middle;\n",
       "    }\n",
       "\n",
       "    .dataframe tbody tr th {\n",
       "        vertical-align: top;\n",
       "    }\n",
       "\n",
       "    .dataframe thead th {\n",
       "        text-align: right;\n",
       "    }\n",
       "</style>\n",
       "<table border=\"1\" class=\"dataframe\">\n",
       "  <thead>\n",
       "    <tr style=\"text-align: right;\">\n",
       "      <th></th>\n",
       "      <th>year</th>\n",
       "      <th>month</th>\n",
       "      <th>day</th>\n",
       "      <th>hour</th>\n",
       "      <th>utc_timestamp</th>\n",
       "      <th>segment_id</th>\n",
       "      <th>start_junction_id</th>\n",
       "      <th>end_junction_id</th>\n",
       "      <th>speed_mph_mean</th>\n",
       "      <th>speed_mph_stddev</th>\n",
       "    </tr>\n",
       "  </thead>\n",
       "  <tbody>\n",
       "    <tr>\n",
       "      <th>0</th>\n",
       "      <td>2018</td>\n",
       "      <td>10</td>\n",
       "      <td>11</td>\n",
       "      <td>19</td>\n",
       "      <td>2018-10-11T23:00:00.000Z</td>\n",
       "      <td>96c556b9b741484c5a14d225f501a435e2bef133</td>\n",
       "      <td>53dfa64f19673d5c74bd043f5e285136bc74d0bc</td>\n",
       "      <td>bf5bb1427013b8e37ef45d6c31d6b9b76128eb5f</td>\n",
       "      <td>7.517</td>\n",
       "      <td>4.950</td>\n",
       "    </tr>\n",
       "    <tr>\n",
       "      <th>1</th>\n",
       "      <td>2018</td>\n",
       "      <td>10</td>\n",
       "      <td>31</td>\n",
       "      <td>14</td>\n",
       "      <td>2018-10-31T18:00:00.000Z</td>\n",
       "      <td>96c556b9b741484c5a14d225f501a435e2bef133</td>\n",
       "      <td>53dfa64f19673d5c74bd043f5e285136bc74d0bc</td>\n",
       "      <td>bf5bb1427013b8e37ef45d6c31d6b9b76128eb5f</td>\n",
       "      <td>11.137</td>\n",
       "      <td>7.112</td>\n",
       "    </tr>\n",
       "    <tr>\n",
       "      <th>2</th>\n",
       "      <td>2018</td>\n",
       "      <td>10</td>\n",
       "      <td>4</td>\n",
       "      <td>18</td>\n",
       "      <td>2018-10-04T22:00:00.000Z</td>\n",
       "      <td>96c556b9b741484c5a14d225f501a435e2bef133</td>\n",
       "      <td>53dfa64f19673d5c74bd043f5e285136bc74d0bc</td>\n",
       "      <td>bf5bb1427013b8e37ef45d6c31d6b9b76128eb5f</td>\n",
       "      <td>12.190</td>\n",
       "      <td>5.467</td>\n",
       "    </tr>\n",
       "    <tr>\n",
       "      <th>3</th>\n",
       "      <td>2018</td>\n",
       "      <td>10</td>\n",
       "      <td>6</td>\n",
       "      <td>6</td>\n",
       "      <td>2018-10-06T10:00:00.000Z</td>\n",
       "      <td>96c556b9b741484c5a14d225f501a435e2bef133</td>\n",
       "      <td>53dfa64f19673d5c74bd043f5e285136bc74d0bc</td>\n",
       "      <td>bf5bb1427013b8e37ef45d6c31d6b9b76128eb5f</td>\n",
       "      <td>13.182</td>\n",
       "      <td>3.845</td>\n",
       "    </tr>\n",
       "    <tr>\n",
       "      <th>4</th>\n",
       "      <td>2018</td>\n",
       "      <td>10</td>\n",
       "      <td>13</td>\n",
       "      <td>18</td>\n",
       "      <td>2018-10-13T22:00:00.000Z</td>\n",
       "      <td>96c556b9b741484c5a14d225f501a435e2bef133</td>\n",
       "      <td>53dfa64f19673d5c74bd043f5e285136bc74d0bc</td>\n",
       "      <td>bf5bb1427013b8e37ef45d6c31d6b9b76128eb5f</td>\n",
       "      <td>8.362</td>\n",
       "      <td>5.778</td>\n",
       "    </tr>\n",
       "  </tbody>\n",
       "</table>\n",
       "</div>"
      ],
      "text/plain": [
       "   year  month  day  hour             utc_timestamp  \\\n",
       "0  2018     10   11    19  2018-10-11T23:00:00.000Z   \n",
       "1  2018     10   31    14  2018-10-31T18:00:00.000Z   \n",
       "2  2018     10    4    18  2018-10-04T22:00:00.000Z   \n",
       "3  2018     10    6     6  2018-10-06T10:00:00.000Z   \n",
       "4  2018     10   13    18  2018-10-13T22:00:00.000Z   \n",
       "\n",
       "                                 segment_id  \\\n",
       "0  96c556b9b741484c5a14d225f501a435e2bef133   \n",
       "1  96c556b9b741484c5a14d225f501a435e2bef133   \n",
       "2  96c556b9b741484c5a14d225f501a435e2bef133   \n",
       "3  96c556b9b741484c5a14d225f501a435e2bef133   \n",
       "4  96c556b9b741484c5a14d225f501a435e2bef133   \n",
       "\n",
       "                          start_junction_id  \\\n",
       "0  53dfa64f19673d5c74bd043f5e285136bc74d0bc   \n",
       "1  53dfa64f19673d5c74bd043f5e285136bc74d0bc   \n",
       "2  53dfa64f19673d5c74bd043f5e285136bc74d0bc   \n",
       "3  53dfa64f19673d5c74bd043f5e285136bc74d0bc   \n",
       "4  53dfa64f19673d5c74bd043f5e285136bc74d0bc   \n",
       "\n",
       "                            end_junction_id  speed_mph_mean  speed_mph_stddev  \n",
       "0  bf5bb1427013b8e37ef45d6c31d6b9b76128eb5f           7.517             4.950  \n",
       "1  bf5bb1427013b8e37ef45d6c31d6b9b76128eb5f          11.137             7.112  \n",
       "2  bf5bb1427013b8e37ef45d6c31d6b9b76128eb5f          12.190             5.467  \n",
       "3  bf5bb1427013b8e37ef45d6c31d6b9b76128eb5f          13.182             3.845  \n",
       "4  bf5bb1427013b8e37ef45d6c31d6b9b76128eb5f           8.362             5.778  "
      ]
     },
     "execution_count": 6,
     "metadata": {},
     "output_type": "execute_result"
    }
   ],
   "source": [
    "df.head()"
   ]
  },
  {
   "cell_type": "code",
   "execution_count": 4,
   "metadata": {},
   "outputs": [
    {
     "data": {
      "text/plain": [
       "(21560312, 10)"
      ]
     },
     "execution_count": 4,
     "metadata": {},
     "output_type": "execute_result"
    }
   ],
   "source": [
    "df.shape"
   ]
  },
  {
   "cell_type": "code",
   "execution_count": 7,
   "metadata": {},
   "outputs": [
    {
     "data": {
      "text/html": [
       "<div>\n",
       "<style scoped>\n",
       "    .dataframe tbody tr th:only-of-type {\n",
       "        vertical-align: middle;\n",
       "    }\n",
       "\n",
       "    .dataframe tbody tr th {\n",
       "        vertical-align: top;\n",
       "    }\n",
       "\n",
       "    .dataframe thead th {\n",
       "        text-align: right;\n",
       "    }\n",
       "</style>\n",
       "<table border=\"1\" class=\"dataframe\">\n",
       "  <thead>\n",
       "    <tr style=\"text-align: right;\">\n",
       "      <th></th>\n",
       "      <th>year</th>\n",
       "      <th>month</th>\n",
       "      <th>day</th>\n",
       "      <th>hour</th>\n",
       "      <th>speed_mph_mean</th>\n",
       "      <th>speed_mph_stddev</th>\n",
       "    </tr>\n",
       "  </thead>\n",
       "  <tbody>\n",
       "    <tr>\n",
       "      <th>count</th>\n",
       "      <td>21560312.0</td>\n",
       "      <td>21560312.0</td>\n",
       "      <td>2.156031e+07</td>\n",
       "      <td>2.156031e+07</td>\n",
       "      <td>2.156031e+07</td>\n",
       "      <td>2.156031e+07</td>\n",
       "    </tr>\n",
       "    <tr>\n",
       "      <th>mean</th>\n",
       "      <td>2018.0</td>\n",
       "      <td>10.0</td>\n",
       "      <td>1.607836e+01</td>\n",
       "      <td>1.293991e+01</td>\n",
       "      <td>2.213546e+01</td>\n",
       "      <td>8.316770e+00</td>\n",
       "    </tr>\n",
       "    <tr>\n",
       "      <th>std</th>\n",
       "      <td>0.0</td>\n",
       "      <td>0.0</td>\n",
       "      <td>8.856779e+00</td>\n",
       "      <td>6.582117e+00</td>\n",
       "      <td>1.099698e+01</td>\n",
       "      <td>4.097629e+00</td>\n",
       "    </tr>\n",
       "    <tr>\n",
       "      <th>min</th>\n",
       "      <td>2018.0</td>\n",
       "      <td>10.0</td>\n",
       "      <td>1.000000e+00</td>\n",
       "      <td>0.000000e+00</td>\n",
       "      <td>6.700000e-01</td>\n",
       "      <td>3.000000e-02</td>\n",
       "    </tr>\n",
       "    <tr>\n",
       "      <th>25%</th>\n",
       "      <td>2018.0</td>\n",
       "      <td>10.0</td>\n",
       "      <td>8.000000e+00</td>\n",
       "      <td>8.000000e+00</td>\n",
       "      <td>1.460100e+01</td>\n",
       "      <td>5.600000e+00</td>\n",
       "    </tr>\n",
       "    <tr>\n",
       "      <th>50%</th>\n",
       "      <td>2018.0</td>\n",
       "      <td>10.0</td>\n",
       "      <td>1.600000e+01</td>\n",
       "      <td>1.400000e+01</td>\n",
       "      <td>2.048900e+01</td>\n",
       "      <td>7.688000e+00</td>\n",
       "    </tr>\n",
       "    <tr>\n",
       "      <th>75%</th>\n",
       "      <td>2018.0</td>\n",
       "      <td>10.0</td>\n",
       "      <td>2.400000e+01</td>\n",
       "      <td>1.900000e+01</td>\n",
       "      <td>2.681800e+01</td>\n",
       "      <td>1.020600e+01</td>\n",
       "    </tr>\n",
       "    <tr>\n",
       "      <th>max</th>\n",
       "      <td>2018.0</td>\n",
       "      <td>10.0</td>\n",
       "      <td>3.100000e+01</td>\n",
       "      <td>2.300000e+01</td>\n",
       "      <td>7.711800e+01</td>\n",
       "      <td>4.167400e+01</td>\n",
       "    </tr>\n",
       "  </tbody>\n",
       "</table>\n",
       "</div>"
      ],
      "text/plain": [
       "             year       month           day          hour  speed_mph_mean  \\\n",
       "count  21560312.0  21560312.0  2.156031e+07  2.156031e+07    2.156031e+07   \n",
       "mean       2018.0        10.0  1.607836e+01  1.293991e+01    2.213546e+01   \n",
       "std           0.0         0.0  8.856779e+00  6.582117e+00    1.099698e+01   \n",
       "min        2018.0        10.0  1.000000e+00  0.000000e+00    6.700000e-01   \n",
       "25%        2018.0        10.0  8.000000e+00  8.000000e+00    1.460100e+01   \n",
       "50%        2018.0        10.0  1.600000e+01  1.400000e+01    2.048900e+01   \n",
       "75%        2018.0        10.0  2.400000e+01  1.900000e+01    2.681800e+01   \n",
       "max        2018.0        10.0  3.100000e+01  2.300000e+01    7.711800e+01   \n",
       "\n",
       "       speed_mph_stddev  \n",
       "count      2.156031e+07  \n",
       "mean       8.316770e+00  \n",
       "std        4.097629e+00  \n",
       "min        3.000000e-02  \n",
       "25%        5.600000e+00  \n",
       "50%        7.688000e+00  \n",
       "75%        1.020600e+01  \n",
       "max        4.167400e+01  "
      ]
     },
     "execution_count": 7,
     "metadata": {},
     "output_type": "execute_result"
    }
   ],
   "source": [
    "df.describe()"
   ]
  },
  {
   "cell_type": "code",
   "execution_count": 8,
   "metadata": {},
   "outputs": [
    {
     "name": "stdout",
     "output_type": "stream",
     "text": [
      "['year', 'month', 'day', 'hour', 'utc_timestamp', 'segment_id', 'start_junction_id', 'end_junction_id', 'speed_mph_mean', 'speed_mph_stddev']\n"
     ]
    }
   ],
   "source": [
    "columnNames = list(df.head(0)) \n",
    "print(columnNames)"
   ]
  },
  {
   "cell_type": "code",
   "execution_count": 9,
   "metadata": {},
   "outputs": [
    {
     "name": "stdout",
     "output_type": "stream",
     "text": [
      "Index(['year', 'month', 'day', 'hour', 'utc_timestamp', 'segment_id',\n",
      "       'start_junction_id', 'end_junction_id', 'speed_mph_mean',\n",
      "       'speed_mph_stddev'],\n",
      "      dtype='object')\n"
     ]
    }
   ],
   "source": [
    "print(df.dtypes.index)"
   ]
  },
  {
   "cell_type": "code",
   "execution_count": null,
   "metadata": {},
   "outputs": [],
   "source": []
  }
 ],
 "metadata": {
  "kernelspec": {
   "display_name": "Python 3",
   "language": "python",
   "name": "python3"
  },
  "language_info": {
   "codemirror_mode": {
    "name": "ipython",
    "version": 3
   },
   "file_extension": ".py",
   "mimetype": "text/x-python",
   "name": "python",
   "nbconvert_exporter": "python",
   "pygments_lexer": "ipython3",
   "version": "3.6.8"
  }
 },
 "nbformat": 4,
 "nbformat_minor": 2
}
